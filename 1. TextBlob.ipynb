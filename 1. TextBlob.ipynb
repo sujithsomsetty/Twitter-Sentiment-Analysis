{
 "cells": [
  {
   "cell_type": "code",
   "execution_count": 8,
   "metadata": {},
   "outputs": [
    {
     "data": {
      "text/plain": [
       "[Sentence(\"Hyderabad is a great place to excel in IT Industry.\"),\n",
       " Sentence(\"Lets utilize it to the fullest as possible!\")]"
      ]
     },
     "execution_count": 8,
     "metadata": {},
     "output_type": "execute_result"
    }
   ],
   "source": [
    "########################################################################\n",
    "########################### TECH CREW ##################################\n",
    "########################################################################\n",
    "\n",
    "### TWITTER SENTIMENT ANALYSIS ###\n",
    "\n",
    "#####  PART 1 ######\n",
    "\n",
    "#### TEXTBLOB #####\n",
    "\n",
    "# This Notebook includes the basic usage of TextBlob Library.\n",
    "# Before proceeding with this notepad. You've to install textblob module.\n",
    "# Execute the following commands in your terminal\n",
    "\n",
    "# /> pip install textblob\n",
    "# /> python -m textblob.download_corpora\n",
    "\n",
    "import textblob\n",
    "\n",
    "blob = textblob.TextBlob(\"Hello World\")\n",
    "text = '''Hyderabad is a great place to excel in IT Industry.\\n Lets utilize it to the fullest as possible!'''\n",
    "\n",
    "text = textblob.TextBlob(text)"
   ]
  },
  {
   "cell_type": "code",
   "execution_count": 23,
   "metadata": {},
   "outputs": [
    {
     "name": "stdout",
     "output_type": "stream",
     "text": [
      "[Sentence(\"Hyderabad is a great place to excel in IT Industry.\"), Sentence(\"Lets utilize it to the fullest as possible!\")]\n",
      "Hyderabad is a great place to excel in IT Industry.\n",
      "Lets utilize it to the fullest as possible!\n",
      "\n",
      "--------------------------\n",
      "\n",
      "Hyderabad\n",
      "is\n",
      "a\n",
      "great\n",
      "place\n",
      "to\n",
      "excel\n",
      "in\n",
      "IT\n",
      "Industry\n",
      "Lets\n",
      "utilize\n",
      "it\n",
      "to\n",
      "the\n",
      "fullest\n",
      "as\n",
      "possible\n",
      "['Lets', 'utilize', 'it', 'to', 'the', 'fullest', 'as', 'possible']\n",
      "\n",
      "--------------------------\n",
      "\n",
      "Industry\n"
     ]
    }
   ],
   "source": [
    "# TOKENIZATION\n",
    "\n",
    "print(text.sentences)\n",
    "\n",
    "#Iterating sentences\n",
    "\n",
    "for s in text.sentences:\n",
    "    print(s)\n",
    "\n",
    "print(\"\\n--------------------------\\n\")\n",
    "\n",
    "#Iterate words\n",
    "\n",
    "for w in text.words:\n",
    "    print(w)\n",
    "    \n",
    "print(text.sentences[1].words)\n",
    "\n",
    "print(\"\\n--------------------------\\n\")\n",
    "\n",
    "print(text.sentences[0].words[9])"
   ]
  },
  {
   "cell_type": "code",
   "execution_count": 26,
   "metadata": {},
   "outputs": [
    {
     "name": "stdout",
     "output_type": "stream",
     "text": [
      "['hyderabad', 'great place', 'it', 'lets']\n"
     ]
    }
   ],
   "source": [
    "# NOUN PHRASE EXTRACTION\n",
    "\n",
    "print(text.noun_phrases)"
   ]
  },
  {
   "cell_type": "code",
   "execution_count": 29,
   "metadata": {},
   "outputs": [
    {
     "name": "stdout",
     "output_type": "stream",
     "text": [
      "[('Hyderabad', 'NNP'), ('is', 'VBZ'), ('a', 'DT'), ('great', 'JJ'), ('place', 'NN'), ('to', 'TO'), ('excel', 'VB'), ('in', 'IN'), ('IT', 'NNP'), ('Industry', 'NNP'), ('Lets', 'NNS'), ('utilize', 'VBP'), ('it', 'PRP'), ('to', 'TO'), ('the', 'DT'), ('fullest', 'JJS'), ('as', 'IN'), ('possible', 'JJ')]\n"
     ]
    }
   ],
   "source": [
    "# PARTS OF SPEECH\n",
    "print(text.tags)\n",
    "\n",
    "# Refer this URL for tag abbreviations - https://www.clips.uantwerpen.be/pages/mbsp-tags\n",
    "\n",
    "# There are also many more features for TextBlob.\n",
    "# Check out the module documentation to explore more about this module..."
   ]
  },
  {
   "cell_type": "code",
   "execution_count": 88,
   "metadata": {},
   "outputs": [
    {
     "name": "stdout",
     "output_type": "stream",
     "text": [
      "80\n",
      "-91\n"
     ]
    }
   ],
   "source": [
    "#Positive Statement\n",
    "pos_statement = textblob.TextBlob(\"Hyderabad is a great place to excel in IT Industry\")\n",
    "print(round(pos_statement.polarity*100)) #polarity = 80\n",
    "\n",
    "#Negative Statement\n",
    "neg_statement = textblob.TextBlob(\"Hyderabad is a very bad place to excel in IT Industry\")\n",
    "print(round(neg_statement.polarity*100)) #polarity = -91\n",
    "\n",
    "# We use Classifiers like Naive Bayes to get the polarity values for a given sentence."
   ]
  },
  {
   "cell_type": "code",
   "execution_count": null,
   "metadata": {},
   "outputs": [],
   "source": []
  }
 ],
 "metadata": {
  "kernelspec": {
   "display_name": "Python 3",
   "language": "python",
   "name": "python3"
  },
  "language_info": {
   "codemirror_mode": {
    "name": "ipython",
    "version": 3
   },
   "file_extension": ".py",
   "mimetype": "text/x-python",
   "name": "python",
   "nbconvert_exporter": "python",
   "pygments_lexer": "ipython3",
   "version": "3.6.5"
  }
 },
 "nbformat": 4,
 "nbformat_minor": 2
}
